{
 "cells": [
  {
   "cell_type": "code",
   "execution_count": 2,
   "metadata": {},
   "outputs": [
    {
     "name": "stdout",
     "output_type": "stream",
     "text": [
      "        date ad_group  ad  Impression  Clicks  Views  Buy       CTR       VTR  \\\n",
      "0 2023-01-01        A   1       42732     147   8653    8  0.003440  0.202495   \n",
      "1 2023-01-01        A   2       49225     121   8778   12  0.002458  0.178324   \n",
      "2 2023-01-01        B   1       46744     240   7314    9  0.005134  0.156469   \n",
      "3 2023-01-01        B   2       58606     188   7849   13  0.003208  0.133928   \n",
      "4 2023-01-01        C   1       46921     248   7115    8  0.005285  0.151638   \n",
      "\n",
      "        BTR  CPV  CPB  ad_Cost  product_Cost  product_price      ROAS  \n",
      "0  0.000925   23  651     7731           500            700 -0.275644  \n",
      "1  0.001367   43  470     7496           500            700  0.120598  \n",
      "2  0.001231   26  439     6087           500            700  0.034993  \n",
      "3  0.001656   45  733     6072           500            700  0.498682  \n",
      "4  0.001124   39  597     7871           500            700 -0.288528  \n"
     ]
    }
   ],
   "source": [
    "import pandas as pd\n",
    "import numpy as np\n",
    "from datetime import datetime, timedelta\n",
    "\n",
    "# Set the seed for reproducibility\n",
    "np.random.seed(0)\n",
    "\n",
    "# Define the start and end date\n",
    "start_date = datetime(2023, 1, 1)\n",
    "end_date = datetime(2023, 1, 31)\n",
    "\n",
    "# Generate a date range\n",
    "date_range = pd.date_range(start_date, end_date)\n",
    "\n",
    "# Define ad groups and ad types\n",
    "ad_groups = ['A', 'B', 'C']\n",
    "ad_types = [1, 2]\n",
    "\n",
    "# Generate synthetic data\n",
    "data = []\n",
    "for current_date in date_range:\n",
    "    for ad_group in ad_groups:\n",
    "        for ad_type in ad_types:\n",
    "            # Generate random data based on the provided sample\n",
    "            impression = np.random.randint(40000, 60000)\n",
    "            clicks = np.random.randint(100, 300)\n",
    "            views = np.random.randint(7000, 9000)\n",
    "            buy = np.random.randint(8, 20)\n",
    "            ctr = clicks / impression\n",
    "            vtr = views / impression\n",
    "            btr = buy / views\n",
    "            cpv = np.random.randint(20, 50)\n",
    "            cpb = np.random.randint(400, 900)\n",
    "            ad_cost = np.random.randint(6000, 8000)\n",
    "            product_cost = 500  # assuming fixed cost\n",
    "            product_price = 700  # assuming fixed price\n",
    "            roas = (buy * product_price - ad_cost) / ad_cost\n",
    "            \n",
    "            # Append the row to the data\n",
    "            data.append([current_date, ad_group, ad_type, impression, clicks, views, buy, \n",
    "                         ctr, vtr, btr, cpv, cpb, ad_cost, product_cost, product_price, roas])\n",
    "\n",
    "# Create a DataFrame\n",
    "column_names = [\"date\", \"ad_group\", \"ad\", \"Impression\", \"Clicks\", \"Views\", \"Buy\", \"CTR\", \n",
    "                \"VTR\", \"BTR\", \"CPV\", \"CPB\", \"ad_Cost\", \"product_Cost\", \"product_price\", \"ROAS\"]\n",
    "synthetic_df = pd.DataFrame(data, columns=column_names)\n",
    "\n",
    "# You can then save this DataFrame to a CSV file or use it directly in your machine learning pipeline\n",
    "# synthetic_df.to_csv('synthetic_data.csv', index=False)\n",
    "\n",
    "# Display the first few rows to check\n",
    "print(synthetic_df.head())\n",
    "\n",
    "# Save the DataFrame to a CSV file in a specific directory\n",
    "synthetic_df.to_csv(r'C:\\Users\\shin7\\Downloads\\synthetic_data.csv', index=False)\n"
   ]
  }
 ],
 "metadata": {
  "kernelspec": {
   "display_name": "tmda",
   "language": "python",
   "name": "python3"
  },
  "language_info": {
   "codemirror_mode": {
    "name": "ipython",
    "version": 3
   },
   "file_extension": ".py",
   "mimetype": "text/x-python",
   "name": "python",
   "nbconvert_exporter": "python",
   "pygments_lexer": "ipython3",
   "version": "3.11.5"
  }
 },
 "nbformat": 4,
 "nbformat_minor": 2
}
