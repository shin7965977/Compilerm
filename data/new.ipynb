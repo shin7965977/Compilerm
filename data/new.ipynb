{
 "cells": [
  {
   "cell_type": "code",
   "execution_count": 1,
   "metadata": {},
   "outputs": [],
   "source": [
    "import csv\n",
    "\n",
    "def upload_and_read_csv():\n",
    "    # 從用戶處獲取CSV檔案的路徑\n",
    "    file_path = input(\"請輸入csv檔案的路徑：\")\n",
    "\n",
    "    try:\n",
    "        with open(file_path, 'r', encoding='utf-8') as file:\n",
    "            # 使用csv.reader讀取檔案內容\n",
    "            csv_reader = csv.reader(file)\n",
    "            \n",
    "            # 讀取標題列（首行）\n",
    "            headers = next(csv_reader)\n",
    "            print(\"Headers:\", headers)\n",
    "\n",
    "            # 讀取並顯示每一行數據\n",
    "            for row in csv_reader:\n",
    "                print(row)\n",
    "\n",
    "    except FileNotFoundError:\n",
    "        print(f\"找不到檔案：{file_path}\")\n",
    "    except Exception as e:\n",
    "        print(f\"讀取CSV文件時出錯: {e}\")\n",
    "\n",
    "if __name__ == \"__main__\":\n",
    "    upload_and_read_csv()\n"
   ]
  }
 ],
 "metadata": {
  "kernelspec": {
   "display_name": "Python 3",
   "language": "python",
   "name": "python3"
  },
  "language_info": {
   "codemirror_mode": {
    "name": "ipython",
    "version": 3
   },
   "file_extension": ".py",
   "mimetype": "text/x-python",
   "name": "python",
   "nbconvert_exporter": "python",
   "pygments_lexer": "ipython3",
   "version": "3.12.0"
  }
 },
 "nbformat": 4,
 "nbformat_minor": 2
}
