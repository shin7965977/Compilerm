{
 "cells": [
  {
   "cell_type": "markdown",
   "metadata": {},
   "source": [
    "## CSV upload"
   ]
  },
  {
   "cell_type": "code",
   "execution_count": 2,
   "metadata": {},
   "outputs": [
    {
     "name": "stdout",
     "output_type": "stream",
     "text": [
      "         date ad group  ad  Impression  Clicks  Views  Buy     CTR     VTR     BTR  CPV  CPB  ad Cost  product Cost  product price    ROAS\n",
      "0  2023-01-01        A   1       40582     228   7071   13  0.0056  0.1742  0.0570   25  445     5786           500            700  0.6826\n",
      "1  2023-01-01        A   2       42647     180   7152    8  0.0042  0.1677  0.0444   39  869     6951           500            700  0.7808\n",
      "2  2023-01-01        B   1       48606     202   7363   14  0.0042  0.1515  0.0693   36  526     7357           500            700  0.7075\n",
      "3  2023-01-01        B   2       47853     283   7793   11  0.0059  0.1629  0.0389   25  646     7102           500            700  0.7381\n",
      "4  2023-01-01        C   1       56271     282   8021   14  0.0050  0.1425  0.0496   28  557     7804           500            700  0.7163\n"
     ]
    }
   ],
   "source": [
    "import pandas as pd\n",
    "import csv\n",
    "\n",
    "def upload_and_read_csv():\n",
    "    # Obtain the CSV file path from the user.\n",
    "    file_path = input(\"Input data path: \")\n",
    "\n",
    "    try:\n",
    "        with open(file_path, 'r', encoding='utf-8') as file:\n",
    "            # Read the file contents using csv.reader.\n",
    "            csv_reader = csv.reader(file)\n",
    "            # Convert csv_reader to a list of lists.\n",
    "            data_list = list(csv_reader)\n",
    "            # Create a DataFrame from the list of lists.\n",
    "            # The first row of the CSV is typically the header, which we use for column names.\n",
    "            df = pd.DataFrame(data_list[1:], columns=data_list[0])\n",
    "            # Convert columns to appropriate data types.\n",
    "            df = df.apply(pd.to_numeric, errors='ignore')\n",
    "            pd.set_option('display.width', 1000)\n",
    "            return df\n",
    "\n",
    "    except FileNotFoundError:\n",
    "        print(f\"Can't find CSV: {file_path}\")\n",
    "        return None\n",
    "    except Exception as e:\n",
    "        print(f\"An error occurred when loading data: {e}\")\n",
    "        return None\n",
    "\n",
    "if __name__ == \"__main__\":\n",
    "    df = upload_and_read_csv()\n",
    "    if df is not None:\n",
    "        print(df.head())  # Display the first few rows of the DataFrame\n"
   ]
  },
  {
   "cell_type": "markdown",
   "metadata": {},
   "source": [
    "### Train / Test /split"
   ]
  },
  {
   "cell_type": "code",
   "execution_count": 6,
   "metadata": {},
   "outputs": [
    {
     "data": {
      "text/plain": [
       "[40, 138, 52, 23, 22, 103, 176, 29, 38, 34]"
      ]
     },
     "execution_count": 6,
     "metadata": {},
     "output_type": "execute_result"
    }
   ],
   "source": [
    "# find out the size of the test set\n",
    "import random\n",
    "index = df.shape[0] // 5  # 20%\n",
    "random.seed(697)  # initializes the random number generator\n",
    "indices = list(range(0, df.shape[0]))\n",
    "random.shuffle(indices)\n",
    "\n",
    "training_indices = indices[:-index*2]\n",
    "validation_indices = indices[-index*2:-index]\n",
    "test_indices = indices[-index:]\n",
    "\n",
    "training_indices[:10]"
   ]
  }
 ],
 "metadata": {
  "kernelspec": {
   "display_name": "Python 3",
   "language": "python",
   "name": "python3"
  },
  "language_info": {
   "codemirror_mode": {
    "name": "ipython",
    "version": 3
   },
   "file_extension": ".py",
   "mimetype": "text/x-python",
   "name": "python",
   "nbconvert_exporter": "python",
   "pygments_lexer": "ipython3",
   "version": "3.12.0"
  }
 },
 "nbformat": 4,
 "nbformat_minor": 2
}
